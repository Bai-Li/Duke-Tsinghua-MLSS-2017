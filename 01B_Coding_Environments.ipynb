{
 "cells": [
  {
   "cell_type": "markdown",
   "metadata": {},
   "source": [
    "# Coding Environments"
   ]
  },
  {
   "cell_type": "markdown",
   "metadata": {},
   "source": [
    "You are welcome to use any coding environment that you like for this tutorial, so if you have prior experience or a workflow set-up already, feel free to continue to use it. If not, a few suggestions are listed here:"
   ]
  },
  {
   "cell_type": "markdown",
   "metadata": {},
   "source": [
    "## Jupyter Notebook (IPython)"
   ]
  },
  {
   "cell_type": "markdown",
   "metadata": {},
   "source": [
    "IPython is an interactive version of Python that allows users to use a shell to run chunks of Python code, as opposed to an entire Python script or program. For those familiar with MATLAB or R, it is very similar to their console/command line. \n",
    "\n",
    "Project Jupyter is a spinoff project of IPython that provides a modern, online interface for IPython:\n",
    "\n",
    "![Jupyter Notebook](Figures/jupyter_notebook.png)\n",
    "\n",
    "You'll notice that many of lecture materials were prepared using Jupyter notebooks.\n",
    "\n",
    "#### Installation \n",
    "If you followed my previous recommendation and installed Anaconda as your Python distribution, congrats, you already have Jupyter installed! However, you need to make sure that Jupyter is installed in the same environment as TensorFlow for the demo code to work:\n",
    "\n",
    "```Shell\n",
    "# Activate your TensorFlow environment, if you haven't already: \n",
    "# 'source activate tensorflow' --or-- 'activate tensorflow', depending on OS and your environment name\n",
    "conda install jupyter\n",
    "```\n",
    "\n",
    "If you *didn't install Anaconda* but already have Python, Jupyter is easily pip installable:\n",
    "\n",
    "```Shell\n",
    "# NOTICE: Only do this if you didn't already install Anaconda\n",
    "pip3 install --upgrade pip\n",
    "pip3 install jupyter\n",
    "```\n",
    "\n",
    "#### Use\n",
    "To open, type the following into your terminal/command prompt:\n",
    "\n",
    "```Shell\n",
    "jupyter notebook\n",
    "```\n",
    "\n",
    "Depending on your OS, Jupyter will either automatically open a tab with Jupyter running, or provide a local host address for you to paste into your favorite browser.\n",
    "\n",
    "More info here: http://jupyter-notebook.readthedocs.io/en/latest/"
   ]
  },
  {
   "cell_type": "markdown",
   "metadata": {},
   "source": [
    "## Spyder"
   ]
  },
  {
   "cell_type": "markdown",
   "metadata": {},
   "source": [
    "Spyder is an open-source integrated development environment for Python. Spyder is a bit more traditional of an IDE compared to Jupyter; it's primarily used to write full Python (`.py`) files to be executed as scripts or programs, though an IPython console is also included. Anyone who has coded in MATLAB's IDE or RStudio should feel right at home. It looks like this:\n",
    "\n",
    "![Spyder](Figures/spyder.png)\n",
    "\n",
    "#### Installation\n",
    "Again, if you followed my previous recommendation and installed Anaconda as your Python distribution, you're already done; Spyder came with it! However, you need to make sure that Spyder is installed in the same environment as TensorFlow for the demo code to work:\n",
    "\n",
    "```Shell\n",
    "# Activate your TensorFlow environment, if you haven't already: \n",
    "# 'source activate tensorflow' --or-- 'activate tensorflow', depending on OS and your environment name\n",
    "conda install spyder\n",
    "```\n",
    "\n",
    "Alternatively, you can go to Tools>PYTHONPATH Manager, click Add Path, and enter in the path to your Anaconda environment.\n",
    "\n",
    "\n",
    "If you *didn't install Anaconda* but already have Python, Spyder is easily pip installable:\n",
    "\n",
    "```Shell\n",
    "# NOTICE: Only do this if you didn't already install Anaconda\n",
    "pip3 install --upgrade pip\n",
    "pip3 install spyder\n",
    "```\n",
    "\n",
    "#### Use\n",
    "To open, type the following into your terminal/command prompt:\n",
    "\n",
    "```Shell\n",
    "spyder\n",
    "```\n",
    "\n",
    "More info here: http://pythonhosted.org/spyder/"
   ]
  }
 ],
 "metadata": {
  "kernelspec": {
   "display_name": "Python 3",
   "language": "python",
   "name": "python3"
  },
  "language_info": {
   "codemirror_mode": {
    "name": "ipython",
    "version": 3
   },
   "file_extension": ".py",
   "mimetype": "text/x-python",
   "name": "python",
   "nbconvert_exporter": "python",
   "pygments_lexer": "ipython3",
   "version": "3.5.1"
  }
 },
 "nbformat": 4,
 "nbformat_minor": 0
}
